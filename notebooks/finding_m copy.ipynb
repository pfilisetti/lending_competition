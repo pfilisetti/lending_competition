{
 "cells": [
  {
   "cell_type": "code",
   "execution_count": 1,
   "id": "4f565a00",
   "metadata": {},
   "outputs": [
    {
     "name": "stdout",
     "output_type": "stream",
     "text": [
      "  sex employment  married  income   signal1   signal2   signal3  default  \\\n",
      "0   M   employed        1   57683  0.524414  0.000000  0.430212        0   \n",
      "1   F    retired        0   23910  0.000000  0.000000  0.000000        0   \n",
      "2   M    retired        1   31777  0.195023  0.096501  0.000000        1   \n",
      "3   M    retired        1   12183  0.000000  0.378030  0.241651        0   \n",
      "4   M   employed        0   19961  0.000000  0.802451  0.000000        0   \n",
      "\n",
      "        PD1       PD2       PD3  \n",
      "0  0.005059  0.007273  0.005736  \n",
      "1  0.014485  0.016153  0.016283  \n",
      "2  0.021095  0.026531  0.016735  \n",
      "3  0.040221  0.033860  0.040161  \n",
      "4  0.038880  0.023565  0.040471  \n"
     ]
    }
   ],
   "source": [
    "import pandas as pd\n",
    "path = \"/Users/gustavetriomphe/Desktop/lending_competition/data/PastLoans_PD.csv\"\n",
    "df = pd.read_csv(path)\n",
    "print(df.head())"
   ]
  },
  {
   "cell_type": "code",
   "execution_count": 2,
   "id": "ed71a844",
   "metadata": {},
   "outputs": [],
   "source": [
    "import sys\n",
    "import os\n",
    "\n",
    "# Add parent directory so Python can find src/\n",
    "sys.path.append(os.path.abspath(os.path.join(os.getcwd(), '..', 'src')))\n",
    "\n",
    "import profit as pr"
   ]
  },
  {
   "cell_type": "code",
   "execution_count": 3,
   "id": "879395a8",
   "metadata": {},
   "outputs": [
    {
     "name": "stdout",
     "output_type": "stream",
     "text": [
      "0    0\n",
      "1    0\n",
      "2    1\n",
      "3    0\n",
      "4    0\n",
      "Name: default, dtype: int64\n",
      "        PD1       PD2       PD3\n",
      "0  0.005059  0.007273  0.005736\n",
      "1  0.014485  0.016153  0.016283\n",
      "2  0.021095  0.026531  0.016735\n",
      "3  0.040221  0.033860  0.040161\n",
      "4  0.038880  0.023565  0.040471\n"
     ]
    }
   ],
   "source": [
    "default = df[\"default\"]\n",
    "print(default.head())\n",
    "pd_preds = df[[\"PD1\", \"PD2\", \"PD3\"]]\n",
    "print(pd_preds.head())\n",
    "min_surplus = 0\n",
    "max_surplus = 0.05\n",
    "num_simulations = 1000"
   ]
  },
  {
   "cell_type": "code",
   "execution_count": 4,
   "id": "82d290a5",
   "metadata": {},
   "outputs": [
    {
     "name": "stdout",
     "output_type": "stream",
     "text": [
      "0.0%\n",
      "0.1%\n",
      "0.2%\n",
      "0.3%\n",
      "0.4%\n",
      "0.5%\n",
      "0.6%\n",
      "0.7000000000000001%\n",
      "0.8%\n",
      "0.8999999999999999%\n",
      "1.0%\n",
      "1.0999999999999999%\n",
      "1.2%\n",
      "1.3%\n",
      "1.4000000000000001%\n",
      "1.5%\n",
      "1.6%\n",
      "1.7000000000000002%\n",
      "1.7999999999999998%\n",
      "1.9%\n",
      "2.0%\n",
      "2.1%\n",
      "2.1999999999999997%\n",
      "2.3%\n",
      "2.4%\n",
      "2.5%\n",
      "2.6%\n",
      "2.7%\n",
      "2.8000000000000003%\n"
     ]
    },
    {
     "ename": "KeyboardInterrupt",
     "evalue": "",
     "output_type": "error",
     "traceback": [
      "\u001b[31m---------------------------------------------------------------------------\u001b[39m",
      "\u001b[31mKeyboardInterrupt\u001b[39m                         Traceback (most recent call last)",
      "\u001b[36mCell\u001b[39m\u001b[36m \u001b[39m\u001b[32mIn[4]\u001b[39m\u001b[32m, line 1\u001b[39m\n\u001b[32m----> \u001b[39m\u001b[32m1\u001b[39m res_df = \u001b[43mpr\u001b[49m\u001b[43m.\u001b[49m\u001b[43mcompute_profit_distribution\u001b[49m\u001b[43m(\u001b[49m\u001b[43mdefault\u001b[49m\u001b[43m,\u001b[49m\u001b[43m \u001b[49m\u001b[43mpd_preds\u001b[49m\u001b[43m,\u001b[49m\u001b[43m \u001b[49m\u001b[43mmin_surplus\u001b[49m\u001b[43m,\u001b[49m\u001b[43m \u001b[49m\u001b[43mmax_surplus\u001b[49m\u001b[43m,\u001b[49m\u001b[43m \u001b[49m\u001b[43mnum_simulations\u001b[49m\u001b[43m,\u001b[49m\u001b[43m \u001b[49m\u001b[43mmethod\u001b[49m\u001b[43m=\u001b[49m\u001b[33;43m\"\u001b[39;49m\u001b[33;43mmultiplicative\u001b[39;49m\u001b[33;43m\"\u001b[39;49m\u001b[43m)\u001b[49m\n\u001b[32m      2\u001b[39m \u001b[38;5;28mprint\u001b[39m(res_df.head())\n",
      "\u001b[36mFile \u001b[39m\u001b[32m~/Desktop/lending_competition/src/profit.py:108\u001b[39m, in \u001b[36mcompute_profit_distribution\u001b[39m\u001b[34m(default, pd_preds, min_surplus, max_surplus, num_simulations, method, seed)\u001b[39m\n\u001b[32m    106\u001b[39m     \u001b[38;5;28mprint\u001b[39m(\u001b[33mf\u001b[39m\u001b[33m\"\u001b[39m\u001b[38;5;132;01m{\u001b[39;00mi/num_simulations*\u001b[32m100\u001b[39m\u001b[38;5;132;01m}\u001b[39;00m\u001b[33m%\u001b[39m\u001b[33m\"\u001b[39m)\n\u001b[32m    107\u001b[39m     surplus_rates = m[i].tolist()  \u001b[38;5;66;03m# [m1, m2, m3]\u001b[39;00m\n\u001b[32m--> \u001b[39m\u001b[32m108\u001b[39m     profits[i] = \u001b[43mcompute_profit_pipe\u001b[49m\u001b[43m(\u001b[49m\u001b[43mdefault\u001b[49m\u001b[43m,\u001b[49m\u001b[43m \u001b[49m\u001b[43mpd_preds\u001b[49m\u001b[43m,\u001b[49m\u001b[43m \u001b[49m\u001b[43msurplus_rates\u001b[49m\u001b[43m,\u001b[49m\u001b[43m \u001b[49m\u001b[43mmethod\u001b[49m\u001b[43m)\u001b[49m\n\u001b[32m    110\u001b[39m df = pd.DataFrame({\n\u001b[32m    111\u001b[39m     \u001b[33m\"\u001b[39m\u001b[33mm1\u001b[39m\u001b[33m\"\u001b[39m: m[:, \u001b[32m0\u001b[39m],\n\u001b[32m    112\u001b[39m     \u001b[33m\"\u001b[39m\u001b[33mm2\u001b[39m\u001b[33m\"\u001b[39m: m[:, \u001b[32m1\u001b[39m],\n\u001b[32m    113\u001b[39m     \u001b[33m\"\u001b[39m\u001b[33mm3\u001b[39m\u001b[33m\"\u001b[39m: m[:, \u001b[32m2\u001b[39m],\n\u001b[32m    114\u001b[39m     \u001b[33m\"\u001b[39m\u001b[33mprofits\u001b[39m\u001b[33m\"\u001b[39m: profits\n\u001b[32m    115\u001b[39m })\n\u001b[32m    117\u001b[39m \u001b[38;5;28;01mreturn\u001b[39;00m df\n",
      "\u001b[36mFile \u001b[39m\u001b[32m~/Desktop/lending_competition/src/profit.py:92\u001b[39m, in \u001b[36mcompute_profit_pipe\u001b[39m\u001b[34m(default, pd_preds, surplus_rates, method)\u001b[39m\n\u001b[32m     88\u001b[39m     df[\u001b[33mf\u001b[39m\u001b[33m\"\u001b[39m\u001b[33mlender_\u001b[39m\u001b[38;5;132;01m{\u001b[39;00mi+\u001b[32m1\u001b[39m\u001b[38;5;132;01m}\u001b[39;00m\u001b[33m\"\u001b[39m] = compute_interest_rate(pd_pred, surplus_rate)\n\u001b[32m     90\u001b[39m df = compute_preferences(df)\n\u001b[32m---> \u001b[39m\u001b[32m92\u001b[39m df = \u001b[43mcompute_choice\u001b[49m\u001b[43m(\u001b[49m\u001b[43mdf\u001b[49m\u001b[43m)\u001b[49m\n\u001b[32m     94\u001b[39m profits = compute_profit(df)\n\u001b[32m     96\u001b[39m \u001b[38;5;28;01mreturn\u001b[39;00m profits\n",
      "\u001b[36mFile \u001b[39m\u001b[32m~/Desktop/lending_competition/src/profit.py:50\u001b[39m, in \u001b[36mcompute_choice\u001b[39m\u001b[34m(df)\u001b[39m\n\u001b[32m     48\u001b[39m         lender_choice = \u001b[32m0\u001b[39m\n\u001b[32m     49\u001b[39m     \u001b[38;5;28;01melse\u001b[39;00m:\n\u001b[32m---> \u001b[39m\u001b[32m50\u001b[39m         lender_choice = \u001b[38;5;28mint\u001b[39m(\u001b[43mnp\u001b[49m\u001b[43m.\u001b[49m\u001b[43margmin\u001b[49m\u001b[43m(\u001b[49m\u001b[43mchoices\u001b[49m\u001b[43m)\u001b[49m) + \u001b[32m1\u001b[39m  \u001b[38;5;66;03m# 1..3\u001b[39;00m\n\u001b[32m     51\u001b[39m     df.at[idx, \u001b[33m\"\u001b[39m\u001b[33mlender_choice\u001b[39m\u001b[33m\"\u001b[39m] = lender_choice\n\u001b[32m     53\u001b[39m \u001b[38;5;28;01mreturn\u001b[39;00m df\n",
      "\u001b[36mFile \u001b[39m\u001b[32m~/Desktop/lending_competition/.venv/lib/python3.12/site-packages/numpy/_core/fromnumeric.py:1439\u001b[39m, in \u001b[36margmin\u001b[39m\u001b[34m(a, axis, out, keepdims)\u001b[39m\n\u001b[32m   1350\u001b[39m \u001b[38;5;250m\u001b[39m\u001b[33;03m\"\"\"\u001b[39;00m\n\u001b[32m   1351\u001b[39m \u001b[33;03mReturns the indices of the minimum values along an axis.\u001b[39;00m\n\u001b[32m   1352\u001b[39m \n\u001b[32m   (...)\u001b[39m\u001b[32m   1436\u001b[39m \u001b[33;03m(2, 1, 4)\u001b[39;00m\n\u001b[32m   1437\u001b[39m \u001b[33;03m\"\"\"\u001b[39;00m\n\u001b[32m   1438\u001b[39m kwds = {\u001b[33m'\u001b[39m\u001b[33mkeepdims\u001b[39m\u001b[33m'\u001b[39m: keepdims} \u001b[38;5;28;01mif\u001b[39;00m keepdims \u001b[38;5;129;01mis\u001b[39;00m \u001b[38;5;129;01mnot\u001b[39;00m np._NoValue \u001b[38;5;28;01melse\u001b[39;00m {}\n\u001b[32m-> \u001b[39m\u001b[32m1439\u001b[39m \u001b[38;5;28;01mreturn\u001b[39;00m \u001b[43m_wrapfunc\u001b[49m\u001b[43m(\u001b[49m\u001b[43ma\u001b[49m\u001b[43m,\u001b[49m\u001b[43m \u001b[49m\u001b[33;43m'\u001b[39;49m\u001b[33;43margmin\u001b[39;49m\u001b[33;43m'\u001b[39;49m\u001b[43m,\u001b[49m\u001b[43m \u001b[49m\u001b[43maxis\u001b[49m\u001b[43m=\u001b[49m\u001b[43maxis\u001b[49m\u001b[43m,\u001b[49m\u001b[43m \u001b[49m\u001b[43mout\u001b[49m\u001b[43m=\u001b[49m\u001b[43mout\u001b[49m\u001b[43m,\u001b[49m\u001b[43m \u001b[49m\u001b[43m*\u001b[49m\u001b[43m*\u001b[49m\u001b[43mkwds\u001b[49m\u001b[43m)\u001b[49m\n",
      "\u001b[36mFile \u001b[39m\u001b[32m~/Desktop/lending_competition/.venv/lib/python3.12/site-packages/numpy/_core/fromnumeric.py:54\u001b[39m, in \u001b[36m_wrapfunc\u001b[39m\u001b[34m(obj, method, *args, **kwds)\u001b[39m\n\u001b[32m     52\u001b[39m bound = \u001b[38;5;28mgetattr\u001b[39m(obj, method, \u001b[38;5;28;01mNone\u001b[39;00m)\n\u001b[32m     53\u001b[39m \u001b[38;5;28;01mif\u001b[39;00m bound \u001b[38;5;129;01mis\u001b[39;00m \u001b[38;5;28;01mNone\u001b[39;00m:\n\u001b[32m---> \u001b[39m\u001b[32m54\u001b[39m     \u001b[38;5;28;01mreturn\u001b[39;00m \u001b[43m_wrapit\u001b[49m\u001b[43m(\u001b[49m\u001b[43mobj\u001b[49m\u001b[43m,\u001b[49m\u001b[43m \u001b[49m\u001b[43mmethod\u001b[49m\u001b[43m,\u001b[49m\u001b[43m \u001b[49m\u001b[43m*\u001b[49m\u001b[43margs\u001b[49m\u001b[43m,\u001b[49m\u001b[43m \u001b[49m\u001b[43m*\u001b[49m\u001b[43m*\u001b[49m\u001b[43mkwds\u001b[49m\u001b[43m)\u001b[49m\n\u001b[32m     56\u001b[39m \u001b[38;5;28;01mtry\u001b[39;00m:\n\u001b[32m     57\u001b[39m     \u001b[38;5;28;01mreturn\u001b[39;00m bound(*args, **kwds)\n",
      "\u001b[36mFile \u001b[39m\u001b[32m~/Desktop/lending_competition/.venv/lib/python3.12/site-packages/numpy/_core/fromnumeric.py:46\u001b[39m, in \u001b[36m_wrapit\u001b[39m\u001b[34m(obj, method, *args, **kwds)\u001b[39m\n\u001b[32m     43\u001b[39m \u001b[38;5;66;03m# As this already tried the method, subok is maybe quite reasonable here\u001b[39;00m\n\u001b[32m     44\u001b[39m \u001b[38;5;66;03m# but this follows what was done before. TODO: revisit this.\u001b[39;00m\n\u001b[32m     45\u001b[39m arr, = conv.as_arrays(subok=\u001b[38;5;28;01mFalse\u001b[39;00m)\n\u001b[32m---> \u001b[39m\u001b[32m46\u001b[39m result = \u001b[38;5;28;43mgetattr\u001b[39;49m\u001b[43m(\u001b[49m\u001b[43marr\u001b[49m\u001b[43m,\u001b[49m\u001b[43m \u001b[49m\u001b[43mmethod\u001b[49m\u001b[43m)\u001b[49m\u001b[43m(\u001b[49m\u001b[43m*\u001b[49m\u001b[43margs\u001b[49m\u001b[43m,\u001b[49m\u001b[43m \u001b[49m\u001b[43m*\u001b[49m\u001b[43m*\u001b[49m\u001b[43mkwds\u001b[49m\u001b[43m)\u001b[49m\n\u001b[32m     48\u001b[39m \u001b[38;5;28;01mreturn\u001b[39;00m conv.wrap(result, to_scalar=\u001b[38;5;28;01mFalse\u001b[39;00m)\n",
      "\u001b[31mKeyboardInterrupt\u001b[39m: "
     ]
    }
   ],
   "source": [
    "res_df = pr.compute_profit_distribution(default, pd_preds, min_surplus, max_surplus, num_simulations, method=\"multiplicative\")\n",
    "print(res_df.head())"
   ]
  },
  {
   "cell_type": "code",
   "execution_count": null,
   "id": "313b56a9",
   "metadata": {},
   "outputs": [],
   "source": [
    "path = \"/Users/gustavetriomphe/Desktop/lending_competition/data/simulations_multiply_1000.csv\"\n",
    "res_df.to_csv(path)\n"
   ]
  }
 ],
 "metadata": {
  "kernelspec": {
   "display_name": ".venv",
   "language": "python",
   "name": "python3"
  },
  "language_info": {
   "codemirror_mode": {
    "name": "ipython",
    "version": 3
   },
   "file_extension": ".py",
   "mimetype": "text/x-python",
   "name": "python",
   "nbconvert_exporter": "python",
   "pygments_lexer": "ipython3",
   "version": "3.12.11"
  }
 },
 "nbformat": 4,
 "nbformat_minor": 5
}
