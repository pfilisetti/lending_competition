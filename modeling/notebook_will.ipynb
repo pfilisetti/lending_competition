{
 "cells": [
  {
   "cell_type": "code",
   "execution_count": 1,
   "id": "57500289",
   "metadata": {},
   "outputs": [],
   "source": [
    "from utils_will import(\n",
    "    load_data,\n",
    "    split_data,\n",
    "    create_preprocessor,\n",
    "    grid_search,\n",
    "    train_model\n",
    ")"
   ]
  },
  {
   "cell_type": "code",
   "execution_count": 4,
   "id": "943ccdd7",
   "metadata": {},
   "outputs": [],
   "source": [
    "past_loans_path = 'data/PastLoans.csv'\n",
    "new_apps_path = 'data/NewApplications_Lender1_Round1.csv'"
   ]
  },
  {
   "cell_type": "code",
   "execution_count": null,
   "id": "7c19f8f6",
   "metadata": {},
   "outputs": [],
   "source": []
  },
  {
   "cell_type": "code",
   "execution_count": null,
   "id": "7fa24f7d",
   "metadata": {},
   "outputs": [],
   "source": []
  },
  {
   "cell_type": "code",
   "execution_count": null,
   "id": "6893974d",
   "metadata": {},
   "outputs": [],
   "source": []
  }
 ],
 "metadata": {
  "kernelspec": {
   "display_name": "Python 3",
   "language": "python",
   "name": "python3"
  },
  "language_info": {
   "codemirror_mode": {
    "name": "ipython",
    "version": 3
   },
   "file_extension": ".py",
   "mimetype": "text/x-python",
   "name": "python",
   "nbconvert_exporter": "python",
   "pygments_lexer": "ipython3",
   "version": "3.13.7"
  }
 },
 "nbformat": 4,
 "nbformat_minor": 5
}
